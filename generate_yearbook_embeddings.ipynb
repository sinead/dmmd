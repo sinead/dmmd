{
 "cells": [
  {
   "cell_type": "markdown",
   "metadata": {},
   "source": [
    "# Code to generate the yearbook embeddings\n",
    "\n",
    "* First, download data from https://people.eecs.berkeley.edu/~shiry/projects/yearbooks/yearbooks.html\n",
    "* Untar into a folder called ``yearbook``\n",
    "* Rename the folder ``faces_aligned_small_mirrored_co_aligned_cropped_cleaned`` to ``faces``."
   ]
  },
  {
   "cell_type": "code",
   "execution_count": 2,
   "metadata": {},
   "outputs": [],
   "source": [
    "import numpy as np\n",
    "import matplotlib.pyplot as plt\n",
    "import seaborn as sns\n",
    "import pandas as pd\n",
    "import os\n",
    "from PIL import Image\n",
    "from img2vec_pytorch import Img2Vec\n",
    "from sklearn.metrics.pairwise import rbf_kernel"
   ]
  },
  {
   "cell_type": "code",
   "execution_count": 3,
   "metadata": {},
   "outputs": [],
   "source": [
    "\n",
    "info = pd.read_csv(\"yearbook/yb_info.csv\")\n",
    "image_dir = 'yearbook/faces/F'\n",
    "image_list = [os.path.join(image_dir, name) for name in os.listdir(image_dir) if name.endswith('.png')]"
   ]
  },
  {
   "cell_type": "code",
   "execution_count": 4,
   "metadata": {},
   "outputs": [],
   "source": [
    "year_list = []\n",
    "for name in image_list:\n",
    "    year_list.append(int(name[17:21]))"
   ]
  },
  {
   "cell_type": "code",
   "execution_count": 5,
   "metadata": {},
   "outputs": [],
   "source": [
    "info = pd.DataFrame(\n",
    "    {'filename': image_list,\n",
    "     'year': year_list\n",
    "    })"
   ]
  },
  {
   "cell_type": "code",
   "execution_count": 6,
   "metadata": {},
   "outputs": [
    {
     "data": {
      "text/html": [
       "<div>\n",
       "<style scoped>\n",
       "    .dataframe tbody tr th:only-of-type {\n",
       "        vertical-align: middle;\n",
       "    }\n",
       "\n",
       "    .dataframe tbody tr th {\n",
       "        vertical-align: top;\n",
       "    }\n",
       "\n",
       "    .dataframe thead th {\n",
       "        text-align: right;\n",
       "    }\n",
       "</style>\n",
       "<table border=\"1\" class=\"dataframe\">\n",
       "  <thead>\n",
       "    <tr style=\"text-align: right;\">\n",
       "      <th></th>\n",
       "      <th>filename</th>\n",
       "      <th>year</th>\n",
       "      <th>decade</th>\n",
       "    </tr>\n",
       "  </thead>\n",
       "  <tbody>\n",
       "    <tr>\n",
       "      <th>0</th>\n",
       "      <td>yearbook/faces/F/1980_Missouri_Kansas-City_Pas...</td>\n",
       "      <td>1980</td>\n",
       "      <td>1980</td>\n",
       "    </tr>\n",
       "    <tr>\n",
       "      <th>1</th>\n",
       "      <td>yearbook/faces/F/1997_Vermont_Rutland_Rutland_...</td>\n",
       "      <td>1997</td>\n",
       "      <td>1990</td>\n",
       "    </tr>\n",
       "    <tr>\n",
       "      <th>2</th>\n",
       "      <td>yearbook/faces/F/1970_Virginia_Arlington_Washi...</td>\n",
       "      <td>1970</td>\n",
       "      <td>1970</td>\n",
       "    </tr>\n",
       "    <tr>\n",
       "      <th>3</th>\n",
       "      <td>yearbook/faces/F/1984_California_Grass-Valley_...</td>\n",
       "      <td>1984</td>\n",
       "      <td>1980</td>\n",
       "    </tr>\n",
       "    <tr>\n",
       "      <th>4</th>\n",
       "      <td>yearbook/faces/F/1948_Pennsylvania_Pittsburgh_...</td>\n",
       "      <td>1948</td>\n",
       "      <td>1940</td>\n",
       "    </tr>\n",
       "    <tr>\n",
       "      <th>...</th>\n",
       "      <td>...</td>\n",
       "      <td>...</td>\n",
       "      <td>...</td>\n",
       "    </tr>\n",
       "    <tr>\n",
       "      <th>20243</th>\n",
       "      <td>yearbook/faces/F/1967_Virginia_Arlington_Washi...</td>\n",
       "      <td>1967</td>\n",
       "      <td>1960</td>\n",
       "    </tr>\n",
       "    <tr>\n",
       "      <th>20244</th>\n",
       "      <td>yearbook/faces/F/1944_Utah_Millard-County_Topa...</td>\n",
       "      <td>1944</td>\n",
       "      <td>1940</td>\n",
       "    </tr>\n",
       "    <tr>\n",
       "      <th>20245</th>\n",
       "      <td>yearbook/faces/F/1938_New-York_Brooklyn_Samuel...</td>\n",
       "      <td>1938</td>\n",
       "      <td>1930</td>\n",
       "    </tr>\n",
       "    <tr>\n",
       "      <th>20246</th>\n",
       "      <td>yearbook/faces/F/1937_California_Brentwood_Lib...</td>\n",
       "      <td>1937</td>\n",
       "      <td>1930</td>\n",
       "    </tr>\n",
       "    <tr>\n",
       "      <th>20247</th>\n",
       "      <td>yearbook/faces/F/1945_Ohio_Cleveland_Collinwoo...</td>\n",
       "      <td>1945</td>\n",
       "      <td>1940</td>\n",
       "    </tr>\n",
       "  </tbody>\n",
       "</table>\n",
       "<p>20248 rows × 3 columns</p>\n",
       "</div>"
      ],
      "text/plain": [
       "                                                filename  year  decade\n",
       "0      yearbook/faces/F/1980_Missouri_Kansas-City_Pas...  1980    1980\n",
       "1      yearbook/faces/F/1997_Vermont_Rutland_Rutland_...  1997    1990\n",
       "2      yearbook/faces/F/1970_Virginia_Arlington_Washi...  1970    1970\n",
       "3      yearbook/faces/F/1984_California_Grass-Valley_...  1984    1980\n",
       "4      yearbook/faces/F/1948_Pennsylvania_Pittsburgh_...  1948    1940\n",
       "...                                                  ...   ...     ...\n",
       "20243  yearbook/faces/F/1967_Virginia_Arlington_Washi...  1967    1960\n",
       "20244  yearbook/faces/F/1944_Utah_Millard-County_Topa...  1944    1940\n",
       "20245  yearbook/faces/F/1938_New-York_Brooklyn_Samuel...  1938    1930\n",
       "20246  yearbook/faces/F/1937_California_Brentwood_Lib...  1937    1930\n",
       "20247  yearbook/faces/F/1945_Ohio_Cleveland_Collinwoo...  1945    1940\n",
       "\n",
       "[20248 rows x 3 columns]"
      ]
     },
     "execution_count": 6,
     "metadata": {},
     "output_type": "execute_result"
    }
   ],
   "source": [
    "info['decade'] = (10*np.floor(info.year/10)).astype(int)\n",
    "info"
   ]
  },
  {
   "cell_type": "code",
   "execution_count": 10,
   "metadata": {},
   "outputs": [],
   "source": [
    "img2vec = Img2Vec(cuda=False)\n",
    "yb_embeddings = np.zeros((len(info), 512))\n",
    "for i in range(len(info)):\n",
    "    img = Image.open(info.filename[i])\n",
    "    # Get a vector from img2vec, returned as a torch FloatTensor\n",
    "    yb_embeddings[i, :] = img2vec.get_vec(img, tensor=False)"
   ]
  },
  {
   "cell_type": "code",
   "execution_count": 11,
   "metadata": {},
   "outputs": [],
   "source": [
    "np.savetxt('yb_embeddings_all.csv', yb_embeddings, delimiter=\",\")"
   ]
  },
  {
   "cell_type": "code",
   "execution_count": null,
   "metadata": {},
   "outputs": [],
   "source": []
  }
 ],
 "metadata": {
  "kernelspec": {
   "display_name": "Python (autograd)",
   "language": "python",
   "name": "autograd"
  },
  "language_info": {
   "codemirror_mode": {
    "name": "ipython",
    "version": 3
   },
   "file_extension": ".py",
   "mimetype": "text/x-python",
   "name": "python",
   "nbconvert_exporter": "python",
   "pygments_lexer": "ipython3",
   "version": "3.8.10"
  }
 },
 "nbformat": 4,
 "nbformat_minor": 4
}
